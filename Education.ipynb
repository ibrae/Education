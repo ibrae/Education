{
 "cells": [
  {
   "cell_type": "code",
   "execution_count": 150,
   "metadata": {},
   "outputs": [],
   "source": [
    "import webbrowser\n",
    "import sqlite3\n",
    "import pandas as pd\n",
    "from IPython import display"
   ]
  },
  {
   "cell_type": "code",
   "execution_count": 151,
   "metadata": {},
   "outputs": [
    {
     "name": "stdout",
     "output_type": "stream",
     "text": [
      "Database successfully created. \n"
     ]
    }
   ],
   "source": [
    "#connect to db\n",
    "conn = sqlite3.connect (\"MyEducation.db\")\n",
    "print(\"Database successfully created. \")"
   ]
  },
  {
   "cell_type": "code",
   "execution_count": 152,
   "metadata": {},
   "outputs": [],
   "source": [
    "#create cursor connection\n",
    "mycursor = conn.cursor()"
   ]
  },
  {
   "cell_type": "code",
   "execution_count": 153,
   "metadata": {},
   "outputs": [],
   "source": [
    "#upload csv file\n",
    "csv_file = pd.read_csv(\"teacher_by_status_and_county_for_secondary.csv\")\n",
    "#csv_file"
   ]
  },
  {
   "cell_type": "code",
   "execution_count": 154,
   "metadata": {},
   "outputs": [
    {
     "data": {
      "text/html": [
       "<div>\n",
       "<style scoped>\n",
       "    .dataframe tbody tr th:only-of-type {\n",
       "        vertical-align: middle;\n",
       "    }\n",
       "\n",
       "    .dataframe tbody tr th {\n",
       "        vertical-align: top;\n",
       "    }\n",
       "\n",
       "    .dataframe thead th {\n",
       "        text-align: right;\n",
       "    }\n",
       "</style>\n",
       "<table border=\"1\" class=\"dataframe\">\n",
       "  <thead>\n",
       "    <tr style=\"text-align: right;\">\n",
       "      <th></th>\n",
       "      <th>COUNTY</th>\n",
       "      <th>School Type</th>\n",
       "      <th>Employment Body</th>\n",
       "      <th>No. of Teachers</th>\n",
       "      <th>Year</th>\n",
       "    </tr>\n",
       "  </thead>\n",
       "  <tbody>\n",
       "    <tr>\n",
       "      <th>0</th>\n",
       "      <td>Baringo</td>\n",
       "      <td>Public</td>\n",
       "      <td>TSC</td>\n",
       "      <td>1172</td>\n",
       "      <td>12/31/2014 0:00</td>\n",
       "    </tr>\n",
       "    <tr>\n",
       "      <th>1</th>\n",
       "      <td>Bomet</td>\n",
       "      <td>Public</td>\n",
       "      <td>TSC</td>\n",
       "      <td>1379</td>\n",
       "      <td>12/31/2014 0:00</td>\n",
       "    </tr>\n",
       "    <tr>\n",
       "      <th>2</th>\n",
       "      <td>Bungoma</td>\n",
       "      <td>Public</td>\n",
       "      <td>TSC</td>\n",
       "      <td>2946</td>\n",
       "      <td>12/31/2014 0:00</td>\n",
       "    </tr>\n",
       "    <tr>\n",
       "      <th>3</th>\n",
       "      <td>Busia</td>\n",
       "      <td>Public</td>\n",
       "      <td>TSC</td>\n",
       "      <td>1182</td>\n",
       "      <td>12/31/2014 0:00</td>\n",
       "    </tr>\n",
       "    <tr>\n",
       "      <th>4</th>\n",
       "      <td>Elgeyo Marakwet</td>\n",
       "      <td>Public</td>\n",
       "      <td>TSC</td>\n",
       "      <td>1087</td>\n",
       "      <td>12/31/2014 0:00</td>\n",
       "    </tr>\n",
       "    <tr>\n",
       "      <th>5</th>\n",
       "      <td>Embu</td>\n",
       "      <td>Public</td>\n",
       "      <td>TSC</td>\n",
       "      <td>1491</td>\n",
       "      <td>12/31/2014 0:00</td>\n",
       "    </tr>\n",
       "    <tr>\n",
       "      <th>6</th>\n",
       "      <td>Garissa</td>\n",
       "      <td>Public</td>\n",
       "      <td>TSC</td>\n",
       "      <td>347</td>\n",
       "      <td>12/31/2014 0:00</td>\n",
       "    </tr>\n",
       "    <tr>\n",
       "      <th>7</th>\n",
       "      <td>Homa Bay</td>\n",
       "      <td>Public</td>\n",
       "      <td>TSC</td>\n",
       "      <td>2069</td>\n",
       "      <td>12/31/2014 0:00</td>\n",
       "    </tr>\n",
       "    <tr>\n",
       "      <th>8</th>\n",
       "      <td>Isiolo</td>\n",
       "      <td>Public</td>\n",
       "      <td>TSC</td>\n",
       "      <td>180</td>\n",
       "      <td>12/31/2014 0:00</td>\n",
       "    </tr>\n",
       "    <tr>\n",
       "      <th>9</th>\n",
       "      <td>Kajiado</td>\n",
       "      <td>Public</td>\n",
       "      <td>TSC</td>\n",
       "      <td>753</td>\n",
       "      <td>12/31/2014 0:00</td>\n",
       "    </tr>\n",
       "  </tbody>\n",
       "</table>\n",
       "</div>"
      ],
      "text/plain": [
       "            COUNTY School Type Employment Body  No. of Teachers  \\\n",
       "0  Baringo             Public          TSC                 1172   \n",
       "1  Bomet               Public          TSC                 1379   \n",
       "2  Bungoma             Public          TSC                 2946   \n",
       "3  Busia               Public          TSC                 1182   \n",
       "4  Elgeyo Marakwet     Public          TSC                 1087   \n",
       "5  Embu                Public          TSC                 1491   \n",
       "6  Garissa             Public          TSC                  347   \n",
       "7  Homa Bay            Public          TSC                 2069   \n",
       "8  Isiolo              Public          TSC                  180   \n",
       "9  Kajiado             Public          TSC                  753   \n",
       "\n",
       "              Year  \n",
       "0  12/31/2014 0:00  \n",
       "1  12/31/2014 0:00  \n",
       "2  12/31/2014 0:00  \n",
       "3  12/31/2014 0:00  \n",
       "4  12/31/2014 0:00  \n",
       "5  12/31/2014 0:00  \n",
       "6  12/31/2014 0:00  \n",
       "7  12/31/2014 0:00  \n",
       "8  12/31/2014 0:00  \n",
       "9  12/31/2014 0:00  "
      ]
     },
     "execution_count": 154,
     "metadata": {},
     "output_type": "execute_result"
    }
   ],
   "source": [
    "#remove the (county centroid) column\n",
    "csv_file.drop ('County (centroid)', inplace=True, axis=1)\n",
    "df = pd.DataFrame(csv_file)\n",
    "df.head(10)"
   ]
  },
  {
   "cell_type": "code",
   "execution_count": 145,
   "metadata": {},
   "outputs": [],
   "source": [
    "#save the file in sqlite3\n",
    "df.to_sql('teachers_by_county', conn, if_exists='replace', index=False)"
   ]
  },
  {
   "cell_type": "code",
   "execution_count": 157,
   "metadata": {},
   "outputs": [],
   "source": [
    "#convert dataframe to html\n",
    "teachers_table = df.to_html()"
   ]
  },
  {
   "cell_type": "code",
   "execution_count": 147,
   "metadata": {},
   "outputs": [
    {
     "data": {
      "text/plain": [
       "True"
      ]
     },
     "execution_count": 147,
     "metadata": {},
     "output_type": "execute_result"
    }
   ],
   "source": [
    "f = open('hrec.html', 'w')\n", "#create html\n",
    "\n",
    "content = '''<!DOCTYPE html>\n",
    "    <html>\n",
    "    <head>\n",
    "        <title>Teachers Service Commission Report</title>\n",
    "    </head>\n",
    "    <body>\n",
    "        <thead><caption><h1><center>Teachers report by county:</center></h2></caption></thead>\n",
    "        <link rel='stylesheet' href='Education.css'/>\n",
    "        %s\n",
    "        </table>\n",
    "        \n",
    "    </body>\n",
    "    </html>''' % (teachers_table)\n", "#read from the converted csv filen",
    "\n",
    "f.write(content)\n", "#write to html\n",
    "f.close()\n",
    "webbrowser.open_new_tab('hrec.html')"
   ]
  },
  {
   "cell_type": "code",
   "execution_count": null,
   "metadata": {},
   "outputs": [],
   "source": []
  },
  {
   "cell_type": "code",
   "execution_count": null,
   "metadata": {},
   "outputs": [],
   "source": []
  },
  {
   "cell_type": "code",
   "execution_count": null,
   "metadata": {},
   "outputs": [],
   "source": []
  },
  {
   "cell_type": "code",
   "execution_count": null,
   "metadata": {},
   "outputs": [],
   "source": []
  }
 ],
 "metadata": {
  "kernelspec": {
   "display_name": "Python 3",
   "language": "python",
   "name": "python3"
  },
  "language_info": {
   "codemirror_mode": {
    "name": "ipython",
    "version": 3
   },
   "file_extension": ".py",
   "mimetype": "text/x-python",
   "name": "python",
   "nbconvert_exporter": "python",
   "pygments_lexer": "ipython3",
   "version": "3.7.0"
  }
 },
 "nbformat": 4,
 "nbformat_minor": 2
}
